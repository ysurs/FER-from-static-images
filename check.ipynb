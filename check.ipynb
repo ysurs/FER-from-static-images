{
 "cells": [
  {
   "cell_type": "code",
   "execution_count": 2,
   "metadata": {},
   "outputs": [],
   "source": [
    "import torch\n",
    "import os"
   ]
  },
  {
   "cell_type": "code",
   "execution_count": 3,
   "metadata": {},
   "outputs": [],
   "source": [
    "import numpy as np"
   ]
  },
  {
   "cell_type": "code",
   "execution_count": 4,
   "metadata": {},
   "outputs": [],
   "source": [
    "%load_ext autoreload\n",
    "%autoreload 2"
   ]
  },
  {
   "cell_type": "code",
   "execution_count": 3,
   "metadata": {},
   "outputs": [
    {
     "data": {
      "text/plain": [
       "['anger', 'contempt', 'disgust', 'fear', 'happy', 'sadness', 'surprise']"
      ]
     },
     "execution_count": 3,
     "metadata": {},
     "output_type": "execute_result"
    }
   ],
   "source": [
    "sorted(os.listdir('/Users/yashsurange/Documents/GitHub/FER-from-static-images/CK+_Complete'))"
   ]
  },
  {
   "cell_type": "code",
   "execution_count": 24,
   "metadata": {},
   "outputs": [
    {
     "data": {
      "text/plain": [
       "['check.ipynb',\n",
       " 'CK+_Complete',\n",
       " '__pycache__',\n",
       " 'README.md',\n",
       " 'dataset.py',\n",
       " '.gitignore',\n",
       " '.git']"
      ]
     },
     "execution_count": 24,
     "metadata": {},
     "output_type": "execute_result"
    }
   ],
   "source": [
    "os.listdir('/Users/yashsurange/Documents/GitHub/FER-from-static-images/')"
   ]
  },
  {
   "cell_type": "code",
   "execution_count": 9,
   "metadata": {},
   "outputs": [],
   "source": [
    "from dataset import ckplus"
   ]
  },
  {
   "cell_type": "code",
   "execution_count": 72,
   "metadata": {},
   "outputs": [],
   "source": [
    "test_data=ckplus('./CK+_Complete/')"
   ]
  },
  {
   "cell_type": "code",
   "execution_count": 74,
   "metadata": {},
   "outputs": [
    {
     "data": {
      "text/plain": [
       "(480, 720, 3)"
      ]
     },
     "execution_count": 74,
     "metadata": {},
     "output_type": "execute_result"
    }
   ],
   "source": [
    "test_data.__getitem__(0)[0].shape"
   ]
  },
  {
   "cell_type": "code",
   "execution_count": null,
   "metadata": {},
   "outputs": [],
   "source": []
  },
  {
   "cell_type": "code",
   "execution_count": 8,
   "metadata": {},
   "outputs": [
    {
     "data": {
      "text/plain": [
       "(480, 720, 1)"
      ]
     },
     "execution_count": 8,
     "metadata": {},
     "output_type": "execute_result"
    }
   ],
   "source": [
    "np.array(test_data.__getitem__(0)[0]).reshape(480,720,1).shape"
   ]
  },
  {
   "cell_type": "code",
   "execution_count": 66,
   "metadata": {},
   "outputs": [
    {
     "data": {
      "text/plain": [
       "345600"
      ]
     },
     "execution_count": 66,
     "metadata": {},
     "output_type": "execute_result"
    }
   ],
   "source": []
  },
  {
   "cell_type": "code",
   "execution_count": 9,
   "metadata": {},
   "outputs": [
    {
     "data": {
      "text/plain": [
       "1635"
      ]
     },
     "execution_count": 9,
     "metadata": {},
     "output_type": "execute_result"
    }
   ],
   "source": [
    "test_data.__len__()"
   ]
  },
  {
   "cell_type": "code",
   "execution_count": 18,
   "metadata": {},
   "outputs": [
    {
     "data": {
      "text/plain": [
       "(720, 480)"
      ]
     },
     "execution_count": 18,
     "metadata": {},
     "output_type": "execute_result"
    }
   ],
   "source": [
    "# width=720 and height=480\n",
    "(test_data.__getitem__(0)[0]).size"
   ]
  },
  {
   "cell_type": "code",
   "execution_count": 21,
   "metadata": {},
   "outputs": [],
   "source": [
    "image=np.array((test_data.__getitem__(0)[0]))"
   ]
  },
  {
   "cell_type": "code",
   "execution_count": 58,
   "metadata": {},
   "outputs": [
    {
     "data": {
      "text/plain": [
       "(480, 720)"
      ]
     },
     "execution_count": 58,
     "metadata": {},
     "output_type": "execute_result"
    }
   ],
   "source": [
    "image.shape"
   ]
  },
  {
   "cell_type": "code",
   "execution_count": 36,
   "metadata": {},
   "outputs": [
    {
     "data": {
      "text/plain": [
       "True"
      ]
     },
     "execution_count": 36,
     "metadata": {},
     "output_type": "execute_result"
    }
   ],
   "source": [
    "np.all(np.stack((image,)*3,axis=-1)[:,:,2]==image)"
   ]
  },
  {
   "cell_type": "code",
   "execution_count": 39,
   "metadata": {},
   "outputs": [
    {
     "data": {
      "text/plain": [
       "(3, 480, 720)"
      ]
     },
     "execution_count": 39,
     "metadata": {},
     "output_type": "execute_result"
    }
   ],
   "source": [
    "np.stack((image,)*3,axis=0).shape"
   ]
  },
  {
   "cell_type": "code",
   "execution_count": 37,
   "metadata": {},
   "outputs": [
    {
     "data": {
      "text/plain": [
       "(480, 720)"
      ]
     },
     "execution_count": 37,
     "metadata": {},
     "output_type": "execute_result"
    }
   ],
   "source": [
    "np.stack((image,)*3,axis=-1)[:,:,2].shape"
   ]
  },
  {
   "cell_type": "code",
   "execution_count": 34,
   "metadata": {},
   "outputs": [
    {
     "data": {
      "text/plain": [
       "(720, 3)"
      ]
     },
     "execution_count": 34,
     "metadata": {},
     "output_type": "execute_result"
    }
   ],
   "source": [
    "np.stack((image,)*3,axis=-1)[1].shape"
   ]
  },
  {
   "cell_type": "code",
   "execution_count": 32,
   "metadata": {},
   "outputs": [
    {
     "data": {
      "text/plain": [
       "array([[ 72, 253, 254, ...,   2,   1,   0],\n",
       "       [ 73, 253, 254, ...,   2,   1,   0],\n",
       "       [ 73, 253, 254, ...,   2,   1,   0],\n",
       "       ...,\n",
       "       [ 72, 253, 254, ...,   1,   1,   1],\n",
       "       [ 72, 253, 254, ...,   1,   1,   1],\n",
       "       [ 72, 253, 254, ...,   1,   1,   1]], dtype=uint8)"
      ]
     },
     "execution_count": 32,
     "metadata": {},
     "output_type": "execute_result"
    }
   ],
   "source": [
    "image"
   ]
  },
  {
   "cell_type": "code",
   "execution_count": 43,
   "metadata": {},
   "outputs": [
    {
     "data": {
      "text/plain": [
       "(2, 3)"
      ]
     },
     "execution_count": 43,
     "metadata": {},
     "output_type": "execute_result"
    }
   ],
   "source": [
    "test_image=np.array([[1,2,3],\n",
    "                    [3,4,5]])\n",
    "test_image.shape"
   ]
  },
  {
   "cell_type": "code",
   "execution_count": 57,
   "metadata": {},
   "outputs": [
    {
     "data": {
      "text/plain": [
       "array([[[1, 1],\n",
       "        [2, 2],\n",
       "        [3, 3]],\n",
       "\n",
       "       [[3, 3],\n",
       "        [4, 4],\n",
       "        [5, 5]]])"
      ]
     },
     "execution_count": 57,
     "metadata": {},
     "output_type": "execute_result"
    }
   ],
   "source": [
    "np.stack((test_image,)*2,axis=-1)"
   ]
  },
  {
   "cell_type": "code",
   "execution_count": 78,
   "metadata": {},
   "outputs": [
    {
     "data": {
      "text/plain": [
       "torch.Size([480, 720, 3])"
      ]
     },
     "execution_count": 78,
     "metadata": {},
     "output_type": "execute_result"
    }
   ],
   "source": [
    "torch.tensor(test_data.__getitem__(0)[0]).shape"
   ]
  },
  {
   "cell_type": "code",
   "execution_count": 14,
   "metadata": {},
   "outputs": [],
   "source": [
    "from torchvision import transforms\n",
    "from PIL import Image\n",
    "resize_transform = transforms.Compose([\n",
    "    transforms.ToPILImage(),  # Convert to PIL image\n",
    "    transforms.Resize((300, 300), interpolation=Image.BILINEAR),  # Resize to 300x300\n",
    "    transforms.ToTensor()  # Convert back to tensor\n",
    "])"
   ]
  },
  {
   "cell_type": "code",
   "execution_count": null,
   "metadata": {},
   "outputs": [],
   "source": [
    "torch.tensor(test_data.__getitem__(0)[0])"
   ]
  },
  {
   "cell_type": "code",
   "execution_count": 89,
   "metadata": {},
   "outputs": [
    {
     "data": {
      "image/png": "[encoded data removed]",
      "text/plain": [
       "<PIL.Image.Image image mode=L size=300x300>"
      ]
     },
     "execution_count": 89,
     "metadata": {},
     "output_type": "execute_result"
    }
   ],
   "source": [
    "resize_transform(np.array(test_data.__getitem__(0)[0]))"
   ]
  },
  {
   "cell_type": "code",
   "execution_count": 10,
   "metadata": {},
   "outputs": [],
   "source": [
    "check2=ckplus('./CK+_Complete/')"
   ]
  },
  {
   "cell_type": "code",
   "execution_count": 69,
   "metadata": {},
   "outputs": [
    {
     "data": {
      "text/plain": [
       "(tensor([[[192, 192, 192],\n",
       "          [251, 251, 251],\n",
       "          [250, 250, 250],\n",
       "          ...,\n",
       "          [247, 247, 247],\n",
       "          [181, 181, 181],\n",
       "          [  6,   6,   6]],\n",
       " \n",
       "         [[192, 192, 192],\n",
       "          [251, 251, 251],\n",
       "          [251, 251, 251],\n",
       "          ...,\n",
       "          [247, 247, 247],\n",
       "          [181, 181, 181],\n",
       "          [  6,   6,   6]],\n",
       " \n",
       "         [[192, 192, 192],\n",
       "          [251, 251, 251],\n",
       "          [251, 251, 251],\n",
       "          ...,\n",
       "          [248, 248, 248],\n",
       "          [181, 181, 181],\n",
       "          [  6,   6,   6]],\n",
       " \n",
       "         ...,\n",
       " \n",
       "         [[192, 192, 192],\n",
       "          [250, 250, 250],\n",
       "          [249, 249, 249],\n",
       "          ...,\n",
       "          [220, 220, 220],\n",
       "          [166, 166, 166],\n",
       "          [  6,   6,   6]],\n",
       " \n",
       "         [[192, 192, 192],\n",
       "          [250, 250, 250],\n",
       "          [249, 249, 249],\n",
       "          ...,\n",
       "          [220, 220, 220],\n",
       "          [166, 166, 166],\n",
       "          [  6,   6,   6]],\n",
       " \n",
       "         [[192, 192, 192],\n",
       "          [250, 250, 250],\n",
       "          [249, 249, 249],\n",
       "          ...,\n",
       "          [223, 223, 223],\n",
       "          [168, 168, 168],\n",
       "          [  6,   6,   6]]], dtype=torch.uint8),\n",
       " 0)"
      ]
     },
     "execution_count": 69,
     "metadata": {},
     "output_type": "execute_result"
    }
   ],
   "source": [
    "check2[0]"
   ]
  },
  {
   "cell_type": "code",
   "execution_count": 121,
   "metadata": {},
   "outputs": [
    {
     "data": {
      "text/plain": [
       "torch.Size([3, 300, 300])"
      ]
     },
     "execution_count": 121,
     "metadata": {},
     "output_type": "execute_result"
    }
   ],
   "source": [
    "transforms.ToTensor()((transforms.Resize((300, 300), interpolation=Image.BILINEAR)(transforms.ToPILImage()(check2.__getitem__(0)[0])))).shape"
   ]
  },
  {
   "cell_type": "code",
   "execution_count": 44,
   "metadata": {},
   "outputs": [
    {
     "data": {
      "image/png": "[encoded data removed]",
      "text/plain": [
       "<PIL.Image.Image image mode=RGB size=300x300>"
      ]
     },
     "execution_count": 44,
     "metadata": {},
     "output_type": "execute_result"
    }
   ],
   "source": [
    "transforms.ToPILImage()(np.array(check2.__getitem__(0)[0]))"
   ]
  },
  {
   "cell_type": "code",
   "execution_count": 46,
   "metadata": {},
   "outputs": [
    {
     "data": {
      "text/plain": [
       "tensor([[[192, 192, 192],\n",
       "         [251, 251, 251],\n",
       "         [250, 250, 250],\n",
       "         ...,\n",
       "         [247, 247, 247],\n",
       "         [181, 181, 181],\n",
       "         [  6,   6,   6]],\n",
       "\n",
       "        [[192, 192, 192],\n",
       "         [251, 251, 251],\n",
       "         [251, 251, 251],\n",
       "         ...,\n",
       "         [247, 247, 247],\n",
       "         [181, 181, 181],\n",
       "         [  6,   6,   6]],\n",
       "\n",
       "        [[192, 192, 192],\n",
       "         [251, 251, 251],\n",
       "         [251, 251, 251],\n",
       "         ...,\n",
       "         [248, 248, 248],\n",
       "         [181, 181, 181],\n",
       "         [  6,   6,   6]],\n",
       "\n",
       "        ...,\n",
       "\n",
       "        [[192, 192, 192],\n",
       "         [250, 250, 250],\n",
       "         [249, 249, 249],\n",
       "         ...,\n",
       "         [220, 220, 220],\n",
       "         [166, 166, 166],\n",
       "         [  6,   6,   6]],\n",
       "\n",
       "        [[192, 192, 192],\n",
       "         [250, 250, 250],\n",
       "         [249, 249, 249],\n",
       "         ...,\n",
       "         [220, 220, 220],\n",
       "         [166, 166, 166],\n",
       "         [  6,   6,   6]],\n",
       "\n",
       "        [[192, 192, 192],\n",
       "         [250, 250, 250],\n",
       "         [249, 249, 249],\n",
       "         ...,\n",
       "         [223, 223, 223],\n",
       "         [168, 168, 168],\n",
       "         [  6,   6,   6]]], dtype=torch.uint8)"
      ]
     },
     "execution_count": 46,
     "metadata": {},
     "output_type": "execute_result"
    }
   ],
   "source": [
    "check2.__getitem__(0)[0]"
   ]
  },
  {
   "cell_type": "code",
   "execution_count": 105,
   "metadata": {},
   "outputs": [
    {
     "data": {
      "text/plain": [
       "tensor([[0.7529, 0.9843, 0.9804,  ..., 0.9686, 0.7098, 0.0235],\n",
       "        [0.7529, 0.9843, 0.9843,  ..., 0.9686, 0.7098, 0.0235],\n",
       "        [0.7529, 0.9843, 0.9843,  ..., 0.9725, 0.7098, 0.0235],\n",
       "        ...,\n",
       "        [0.7529, 0.9804, 0.9765,  ..., 0.8627, 0.6510, 0.0235],\n",
       "        [0.7529, 0.9804, 0.9765,  ..., 0.8627, 0.6510, 0.0235],\n",
       "        [0.7529, 0.9804, 0.9765,  ..., 0.8745, 0.6588, 0.0235]])"
      ]
     },
     "execution_count": 105,
     "metadata": {},
     "output_type": "execute_result"
    }
   ],
   "source": [
    "resize_transform(check2.__getitem__(0)[0])[2]"
   ]
  },
  {
   "cell_type": "code",
   "execution_count": 26,
   "metadata": {},
   "outputs": [
    {
     "data": {
      "text/plain": [
       "torch.Size([300, 300, 3])"
      ]
     },
     "execution_count": 26,
     "metadata": {},
     "output_type": "execute_result"
    }
   ],
   "source": [
    "torch.tensor(np.array(check2.__getitem__(0)[0])).shape#.permute(1,2,0).shape"
   ]
  },
  {
   "cell_type": "code",
   "execution_count": 21,
   "metadata": {},
   "outputs": [],
   "source": [
    "image_test=np.array(check2.__getitem__(0)[0])"
   ]
  },
  {
   "cell_type": "code",
   "execution_count": 162,
   "metadata": {},
   "outputs": [
    {
     "data": {
      "text/plain": [
       "tensor([[[192, 192, 192],\n",
       "         [251, 251, 251],\n",
       "         [250, 250, 250],\n",
       "         ...,\n",
       "         [247, 247, 247],\n",
       "         [181, 181, 181],\n",
       "         [  6,   6,   6]],\n",
       "\n",
       "        [[192, 192, 192],\n",
       "         [251, 251, 251],\n",
       "         [251, 251, 251],\n",
       "         ...,\n",
       "         [247, 247, 247],\n",
       "         [181, 181, 181],\n",
       "         [  6,   6,   6]],\n",
       "\n",
       "        [[192, 192, 192],\n",
       "         [251, 251, 251],\n",
       "         [251, 251, 251],\n",
       "         ...,\n",
       "         [248, 248, 248],\n",
       "         [181, 181, 181],\n",
       "         [  6,   6,   6]],\n",
       "\n",
       "        ...,\n",
       "\n",
       "        [[192, 192, 192],\n",
       "         [250, 250, 250],\n",
       "         [249, 249, 249],\n",
       "         ...,\n",
       "         [220, 220, 220],\n",
       "         [166, 166, 166],\n",
       "         [  6,   6,   6]],\n",
       "\n",
       "        [[192, 192, 192],\n",
       "         [250, 250, 250],\n",
       "         [249, 249, 249],\n",
       "         ...,\n",
       "         [220, 220, 220],\n",
       "         [166, 166, 166],\n",
       "         [  6,   6,   6]],\n",
       "\n",
       "        [[192, 192, 192],\n",
       "         [250, 250, 250],\n",
       "         [249, 249, 249],\n",
       "         ...,\n",
       "         [223, 223, 223],\n",
       "         [168, 168, 168],\n",
       "         [  6,   6,   6]]], dtype=torch.uint8)"
      ]
     },
     "execution_count": 162,
     "metadata": {},
     "output_type": "execute_result"
    }
   ],
   "source": [
    "check2.__getitem__(0)[0]"
   ]
  },
  {
   "cell_type": "code",
   "execution_count": 52,
   "metadata": {},
   "outputs": [
    {
     "data": {
      "text/plain": [
       "dtype('uint8')"
      ]
     },
     "execution_count": 52,
     "metadata": {},
     "output_type": "execute_result"
    }
   ],
   "source": [
    "image_test.dtype"
   ]
  },
  {
   "cell_type": "code",
   "execution_count": 76,
   "metadata": {},
   "outputs": [
    {
     "data": {
      "text/plain": [
       "(300, 300, 3)"
      ]
     },
     "execution_count": 76,
     "metadata": {},
     "output_type": "execute_result"
    }
   ],
   "source": [
    "image_test.shape"
   ]
  },
  {
   "cell_type": "code",
   "execution_count": 49,
   "metadata": {},
   "outputs": [],
   "source": [
    "import cv2"
   ]
  },
  {
   "cell_type": "code",
   "execution_count": 160,
   "metadata": {},
   "outputs": [],
   "source": [
    "clahe = cv2.createCLAHE(clipLimit=1)\n",
    "final_img = clahe.apply(image_test[:,:,0])+20"
   ]
  },
  {
   "cell_type": "code",
   "execution_count": 163,
   "metadata": {},
   "outputs": [
    {
     "data": {
      "text/plain": [
       "numpy.ndarray"
      ]
     },
     "execution_count": 163,
     "metadata": {},
     "output_type": "execute_result"
    }
   ],
   "source": [
    "type(final_img)"
   ]
  },
  {
   "cell_type": "code",
   "execution_count": 19,
   "metadata": {},
   "outputs": [],
   "source": [
    "test_tensor=check2.__getitem__(0)[0]"
   ]
  },
  {
   "cell_type": "code",
   "execution_count": 16,
   "metadata": {},
   "outputs": [
    {
     "data": {
      "text/plain": [
       "numpy.ndarray"
      ]
     },
     "execution_count": 16,
     "metadata": {},
     "output_type": "execute_result"
    }
   ],
   "source": [
    "from preprocessing import preprocessing_image\n",
    "test_pre=preprocessing_image()\n",
    "type(test_pre.clahe(test_tensor))\n"
   ]
  },
  {
   "cell_type": "code",
   "execution_count": 161,
   "metadata": {},
   "outputs": [
    {
     "data": {
      "image/png": "[encoded data removed]",
      "text/plain": [
       "<PIL.Image.Image image mode=L size=300x300>"
      ]
     },
     "execution_count": 161,
     "metadata": {},
     "output_type": "execute_result"
    }
   ],
   "source": [
    "transforms.ToPILImage()(final_img)"
   ]
  },
  {
   "cell_type": "code",
   "execution_count": 74,
   "metadata": {},
   "outputs": [
    {
     "data": {
      "text/plain": [
       "numpy.ndarray"
      ]
     },
     "execution_count": 74,
     "metadata": {},
     "output_type": "execute_result"
    }
   ],
   "source": [
    "type(final_img)"
   ]
  },
  {
   "cell_type": "code",
   "execution_count": 67,
   "metadata": {},
   "outputs": [
    {
     "data": {
      "text/plain": [
       "True"
      ]
     },
     "execution_count": 67,
     "metadata": {},
     "output_type": "execute_result"
    }
   ],
   "source": [
    "np.all(image_test[:,:,0]==image_test[:,:,2])"
   ]
  },
  {
   "cell_type": "code",
   "execution_count": 18,
   "metadata": {},
   "outputs": [
    {
     "name": "stderr",
     "output_type": "stream",
     "text": [
      "/Users/yashsurange/miniforge3/envs/FER/lib/python3.11/site-packages/torchvision/models/_utils.py:208: UserWarning: The parameter 'pretrained' is deprecated since 0.13 and may be removed in the future, please use 'weights' instead.\n",
      "  warnings.warn(\n",
      "/Users/yashsurange/miniforge3/envs/FER/lib/python3.11/site-packages/torchvision/models/_utils.py:223: UserWarning: Arguments other than a weight enum or `None` for 'weights' are deprecated since 0.13 and may be removed in the future. The current behavior is equivalent to passing `weights=SSD300_VGG16_Weights.COCO_V1`. You can also use `weights=SSD300_VGG16_Weights.DEFAULT` to get the most up-to-date weights.\n",
      "  warnings.warn(msg)\n"
     ]
    }
   ],
   "source": [
    "from torchvision.models.detection import ssd\n",
    "\n",
    "model = ssd.ssd300_vgg16(pretrained=True)"
   ]
  },
  {
   "cell_type": "code",
   "execution_count": 22,
   "metadata": {},
   "outputs": [
    {
     "data": {
      "text/plain": [
       "SSD(\n",
       "  (backbone): SSDFeatureExtractorVGG(\n",
       "    (features): Sequential(\n",
       "      (0): Conv2d(3, 64, kernel_size=(3, 3), stride=(1, 1), padding=(1, 1))\n",
       "      (1): ReLU(inplace=True)\n",
       "      (2): Conv2d(64, 64, kernel_size=(3, 3), stride=(1, 1), padding=(1, 1))\n",
       "      (3): ReLU(inplace=True)\n",
       "      (4): MaxPool2d(kernel_size=2, stride=2, padding=0, dilation=1, ceil_mode=False)\n",
       "      (5): Conv2d(64, 128, kernel_size=(3, 3), stride=(1, 1), padding=(1, 1))\n",
       "      (6): ReLU(inplace=True)\n",
       "      (7): Conv2d(128, 128, kernel_size=(3, 3), stride=(1, 1), padding=(1, 1))\n",
       "      (8): ReLU(inplace=True)\n",
       "      (9): MaxPool2d(kernel_size=2, stride=2, padding=0, dilation=1, ceil_mode=False)\n",
       "      (10): Conv2d(128, 256, kernel_size=(3, 3), stride=(1, 1), padding=(1, 1))\n",
       "      (11): ReLU(inplace=True)\n",
       "      (12): Conv2d(256, 256, kernel_size=(3, 3), stride=(1, 1), padding=(1, 1))\n",
       "      (13): ReLU(inplace=True)\n",
       "      (14): Conv2d(256, 256, kernel_size=(3, 3), stride=(1, 1), padding=(1, 1))\n",
       "      (15): ReLU(inplace=True)\n",
       "      (16): MaxPool2d(kernel_size=2, stride=2, padding=0, dilation=1, ceil_mode=True)\n",
       "      (17): Conv2d(256, 512, kernel_size=(3, 3), stride=(1, 1), padding=(1, 1))\n",
       "      (18): ReLU(inplace=True)\n",
       "      (19): Conv2d(512, 512, kernel_size=(3, 3), stride=(1, 1), padding=(1, 1))\n",
       "      (20): ReLU(inplace=True)\n",
       "      (21): Conv2d(512, 512, kernel_size=(3, 3), stride=(1, 1), padding=(1, 1))\n",
       "      (22): ReLU(inplace=True)\n",
       "    )\n",
       "    (extra): ModuleList(\n",
       "      (0): Sequential(\n",
       "        (0): MaxPool2d(kernel_size=2, stride=2, padding=0, dilation=1, ceil_mode=False)\n",
       "        (1): Conv2d(512, 512, kernel_size=(3, 3), stride=(1, 1), padding=(1, 1))\n",
       "        (2): ReLU(inplace=True)\n",
       "        (3): Conv2d(512, 512, kernel_size=(3, 3), stride=(1, 1), padding=(1, 1))\n",
       "        (4): ReLU(inplace=True)\n",
       "        (5): Conv2d(512, 512, kernel_size=(3, 3), stride=(1, 1), padding=(1, 1))\n",
       "        (6): ReLU(inplace=True)\n",
       "        (7): Sequential(\n",
       "          (0): MaxPool2d(kernel_size=3, stride=1, padding=1, dilation=1, ceil_mode=False)\n",
       "          (1): Conv2d(512, 1024, kernel_size=(3, 3), stride=(1, 1), padding=(6, 6), dilation=(6, 6))\n",
       "          (2): ReLU(inplace=True)\n",
       "          (3): Conv2d(1024, 1024, kernel_size=(1, 1), stride=(1, 1))\n",
       "          (4): ReLU(inplace=True)\n",
       "        )\n",
       "      )\n",
       "      (1): Sequential(\n",
       "        (0): Conv2d(1024, 256, kernel_size=(1, 1), stride=(1, 1))\n",
       "        (1): ReLU(inplace=True)\n",
       "        (2): Conv2d(256, 512, kernel_size=(3, 3), stride=(2, 2), padding=(1, 1))\n",
       "        (3): ReLU(inplace=True)\n",
       "      )\n",
       "      (2): Sequential(\n",
       "        (0): Conv2d(512, 128, kernel_size=(1, 1), stride=(1, 1))\n",
       "        (1): ReLU(inplace=True)\n",
       "        (2): Conv2d(128, 256, kernel_size=(3, 3), stride=(2, 2), padding=(1, 1))\n",
       "        (3): ReLU(inplace=True)\n",
       "      )\n",
       "      (3-4): 2 x Sequential(\n",
       "        (0): Conv2d(256, 128, kernel_size=(1, 1), stride=(1, 1))\n",
       "        (1): ReLU(inplace=True)\n",
       "        (2): Conv2d(128, 256, kernel_size=(3, 3), stride=(1, 1))\n",
       "        (3): ReLU(inplace=True)\n",
       "      )\n",
       "    )\n",
       "  )\n",
       "  (anchor_generator): DefaultBoxGenerator(aspect_ratios=[[2], [2, 3], [2, 3], [2, 3], [2], [2]], clip=True, scales=[0.07, 0.15, 0.33, 0.51, 0.69, 0.87, 1.05], steps=[8, 16, 32, 64, 100, 300])\n",
       "  (head): SSDHead(\n",
       "    (classification_head): SSDClassificationHead(\n",
       "      (module_list): ModuleList(\n",
       "        (0): Conv2d(512, 364, kernel_size=(3, 3), stride=(1, 1), padding=(1, 1))\n",
       "        (1): Conv2d(1024, 546, kernel_size=(3, 3), stride=(1, 1), padding=(1, 1))\n",
       "        (2): Conv2d(512, 546, kernel_size=(3, 3), stride=(1, 1), padding=(1, 1))\n",
       "        (3): Conv2d(256, 546, kernel_size=(3, 3), stride=(1, 1), padding=(1, 1))\n",
       "        (4-5): 2 x Conv2d(256, 364, kernel_size=(3, 3), stride=(1, 1), padding=(1, 1))\n",
       "      )\n",
       "    )\n",
       "    (regression_head): SSDRegressionHead(\n",
       "      (module_list): ModuleList(\n",
       "        (0): Conv2d(512, 16, kernel_size=(3, 3), stride=(1, 1), padding=(1, 1))\n",
       "        (1): Conv2d(1024, 24, kernel_size=(3, 3), stride=(1, 1), padding=(1, 1))\n",
       "        (2): Conv2d(512, 24, kernel_size=(3, 3), stride=(1, 1), padding=(1, 1))\n",
       "        (3): Conv2d(256, 24, kernel_size=(3, 3), stride=(1, 1), padding=(1, 1))\n",
       "        (4-5): 2 x Conv2d(256, 16, kernel_size=(3, 3), stride=(1, 1), padding=(1, 1))\n",
       "      )\n",
       "    )\n",
       "  )\n",
       "  (transform): GeneralizedRCNNTransform(\n",
       "      Normalize(mean=[0.48235, 0.45882, 0.40784], std=[0.00392156862745098, 0.00392156862745098, 0.00392156862745098])\n",
       "      Resize(min_size=(300,), max_size=300, mode='bilinear')\n",
       "  )\n",
       ")"
      ]
     },
     "execution_count": 22,
     "metadata": {},
     "output_type": "execute_result"
    }
   ],
   "source": [
    "model.eval()"
   ]
  },
  {
   "cell_type": "code",
   "execution_count": 23,
   "metadata": {},
   "outputs": [],
   "source": [
    "test_tensor=transforms.ToTensor()(image_test)"
   ]
  },
  {
   "cell_type": "code",
   "execution_count": 24,
   "metadata": {},
   "outputs": [
    {
     "data": {
      "text/plain": [
       "torch.Size([3, 300, 300])"
      ]
     },
     "execution_count": 24,
     "metadata": {},
     "output_type": "execute_result"
    }
   ],
   "source": [
    "test_tensor.shape"
   ]
  },
  {
   "cell_type": "code",
   "execution_count": 25,
   "metadata": {},
   "outputs": [],
   "source": [
    "with torch.no_grad():\n",
    "    \n",
    "  detections=model([test_tensor])"
   ]
  },
  {
   "cell_type": "code",
   "execution_count": 93,
   "metadata": {},
   "outputs": [
    {
     "data": {
      "text/plain": [
       "dict_keys(['boxes', 'scores', 'labels'])"
      ]
     },
     "execution_count": 93,
     "metadata": {},
     "output_type": "execute_result"
    }
   ],
   "source": [
    "detections[0].keys()"
   ]
  },
  {
   "cell_type": "code",
   "execution_count": 101,
   "metadata": {},
   "outputs": [
    {
     "data": {
      "text/plain": [
       "tensor([[ 34.8537,  13.0647, 294.2927, 298.2159],\n",
       "        [ 36.9165,  29.3753, 160.6267, 285.6434],\n",
       "        [211.1705, 106.0665, 274.1754, 297.3253],\n",
       "        [ 46.5083,  55.2421, 114.4245, 264.3495],\n",
       "        [  0.0000,  33.9700, 115.6209, 193.0044],\n",
       "        [ 39.4439,   0.0000, 277.6667, 152.8955],\n",
       "        [234.4690,  39.1733, 300.0000, 282.8914],\n",
       "        [129.7254, 249.2117, 211.8894, 300.0000],\n",
       "        [ 17.8140,  56.8222,  80.2129, 260.7889],\n",
       "        [133.8101, 252.1098, 170.4325, 300.0000],\n",
       "        [164.1061,  11.9823, 289.8631, 241.9946],\n",
       "        [130.0543, 117.4151, 294.6531, 297.4512],\n",
       "        [119.2709, 250.9349, 152.0921, 300.0000],\n",
       "        [166.4279, 248.4505, 203.6777, 299.5230],\n",
       "        [ 32.0058,  22.5551, 135.5397, 142.4468],\n",
       "        [215.3416, 219.2445, 276.0424, 298.7765],\n",
       "        [258.1440, 234.7361, 296.4292, 296.4520],\n",
       "        [152.8134, 244.6036, 182.4313, 300.0000],\n",
       "        [187.0421, 225.1457, 218.5990, 295.5959],\n",
       "        [102.5391, 248.9196, 133.6647, 300.0000],\n",
       "        [239.1972, 252.8109, 286.4251, 298.3198],\n",
       "        [  0.0000, 164.5011, 110.2599, 300.0000],\n",
       "        [179.2157,  52.2448, 244.5646, 236.5692],\n",
       "        [242.0359, 219.5287, 284.7871, 283.8635],\n",
       "        [243.1832, 175.3973, 295.9534, 300.0000],\n",
       "        [222.7649, 235.4054, 267.9276, 295.0547],\n",
       "        [ 75.3145,  61.0958, 144.6108, 238.9191],\n",
       "        [ 39.7487, 205.6870, 152.3963, 300.0000],\n",
       "        [206.4219, 214.6106, 229.7442, 296.0246],\n",
       "        [204.0798,  12.3924, 300.0000, 161.6718],\n",
       "        [111.3239,   0.0000, 209.1763, 144.0679],\n",
       "        [ 24.0999,  67.0378,  88.8060, 142.6746],\n",
       "        [201.2327, 144.7081, 265.0402, 225.0813],\n",
       "        [ 43.4980,  98.4718, 105.5324, 177.2633],\n",
       "        [ 20.3784, 184.5363,  77.3314, 300.0000],\n",
       "        [ 13.6849,   0.0000,  80.2576, 142.2618],\n",
       "        [243.3182, 188.7273, 284.9989, 244.1634],\n",
       "        [184.0195, 129.7042, 242.4068, 292.9264],\n",
       "        [  0.0000,  20.9684,  40.2243, 224.8159],\n",
       "        [189.4614,  76.2037, 285.4140, 208.2679],\n",
       "        [ 79.2364,   0.0000, 146.1353, 136.0918],\n",
       "        [286.9184, 119.4716, 300.0000, 297.3001],\n",
       "        [ 44.4837,  83.7381,  68.1613, 166.6472],\n",
       "        [ 93.5907, 232.6365, 246.7108, 299.6911],\n",
       "        [ 30.8796, 143.6104,  87.3026, 227.6930],\n",
       "        [ 50.3041,   0.0000, 112.4552,  95.9937],\n",
       "        [ 41.2661,  51.6329, 106.7868, 126.4015],\n",
       "        [ 45.7829, 129.9237, 104.9715, 209.8693],\n",
       "        [  9.1039,  96.7091,  73.6071, 177.6701],\n",
       "        [ 39.9335, 173.7487,  76.1550, 227.2347],\n",
       "        [177.5909, 207.0664, 295.7014, 300.0000],\n",
       "        [ 26.9222, 113.3409,  87.6654, 194.4195],\n",
       "        [ 46.7486,   2.9240, 186.7649, 112.6770],\n",
       "        [ 60.1026, 100.1153,  84.3912, 182.6360],\n",
       "        [112.2018,   0.0000, 178.3060,  89.6652],\n",
       "        [ 22.7390,  34.7484,  90.6510, 110.4451],\n",
       "        [176.8585,   0.0000, 240.5351,  93.7230],\n",
       "        [227.2284, 189.4536, 268.9368, 244.5196],\n",
       "        [217.9578, 125.1432, 279.2975, 209.8110],\n",
       "        [252.4894, 187.6277, 277.3215, 290.1560],\n",
       "        [251.8244, 202.3611, 277.9513, 298.0280],\n",
       "        [ 79.1441, 246.2571, 150.1545, 300.0000],\n",
       "        [249.9845, 164.8635, 278.7522, 234.7605],\n",
       "        [ 55.5779,  81.7373, 121.0809, 160.8013],\n",
       "        [233.4087, 203.7220, 261.3709, 298.2921],\n",
       "        [218.4634, 160.5874, 279.6374, 243.3129],\n",
       "        [ 41.0654,  58.5072,  72.1023, 120.0120],\n",
       "        [233.9449, 175.7436, 292.7133, 264.0554],\n",
       "        [ 52.4819, 156.9418,  91.2050, 210.6842],\n",
       "        [ 89.3377, 241.5365, 117.7374, 300.0000],\n",
       "        [ 24.7724,  88.6679,  55.8178, 153.5392],\n",
       "        [ 60.5443,  68.6539,  84.6683, 147.1246],\n",
       "        [215.6125,  18.7760, 224.0162,  30.2070],\n",
       "        [ 76.0451, 100.2589, 100.4469, 178.8214],\n",
       "        [265.5086, 195.0022, 293.5169, 280.2638],\n",
       "        [191.9071, 218.1101, 250.4835, 299.1436],\n",
       "        [144.1414,   0.0000, 209.3173,  87.9421],\n",
       "        [283.2378, 225.5409, 300.0000, 295.8777],\n",
       "        [198.2005, 253.4310, 239.5336, 297.8203],\n",
       "        [ 60.4395, 252.2266, 112.8927, 298.9905],\n",
       "        [ 49.0636, 145.0103, 190.2119, 287.3030],\n",
       "        [209.5799, 150.3002, 233.8139, 194.2641],\n",
       "        [268.4909, 200.6860, 292.5591, 299.8391],\n",
       "        [214.5385,  24.4059, 225.0162,  38.7491],\n",
       "        [ 45.2474, 159.0420, 104.8904, 246.1198],\n",
       "        [224.7624,  18.8547, 231.8601,  29.5692],\n",
       "        [210.4489, 252.3049, 253.7144, 297.6567],\n",
       "        [ 22.3083, 174.4603,  61.0037, 226.7266],\n",
       "        [187.0751,   0.0000, 213.1116,  35.8876],\n",
       "        [234.9872, 140.4527, 293.7708, 226.9118],\n",
       "        [203.0171,   0.0000, 228.7421,  37.0999],\n",
       "        [ 11.2916, 126.7545,  72.5883, 210.6660],\n",
       "        [205.6853, 208.4922, 231.1955, 293.4684],\n",
       "        [118.3695, 270.7674, 194.8278, 300.0000],\n",
       "        [223.6953,  26.0524, 232.0585,  38.3144],\n",
       "        [ 50.7679, 191.9455,  91.0152, 247.4223],\n",
       "        [208.5590,   0.0000, 271.8586,  98.4477],\n",
       "        [245.1531, 139.6024, 283.6657, 195.9673],\n",
       "        [206.9313,  17.9276, 216.9988,  30.4234],\n",
       "        [ 76.2390,  67.9778, 100.8110, 145.3045],\n",
       "        [181.0735, 129.9627, 248.4577, 205.6311],\n",
       "        [ 91.2933,   0.0000, 116.9688,  38.3867],\n",
       "        [191.9071, 218.1101, 250.4835, 299.1436],\n",
       "        [ 53.1787, 240.5449,  88.4852, 298.7093],\n",
       "        [203.0124,  13.2570, 235.4725,  45.3096],\n",
       "        [ 27.9202,  51.7220,  52.1032, 133.2739],\n",
       "        [ 35.7792,  96.2986,  77.0096, 145.2274],\n",
       "        [286.2097, 217.0603, 300.0000, 300.0000],\n",
       "        [117.9043, 244.0113, 148.4312, 276.3687],\n",
       "        [259.6469, 172.5612, 296.0497, 226.5699],\n",
       "        [106.8713,   0.0000, 132.9426,  37.6260],\n",
       "        [200.6412, 111.6182, 265.0957, 192.5059],\n",
       "        [ 45.0228, 185.2985,  72.2475, 259.4584],\n",
       "        [ 22.2740, 248.0952,  73.7458, 300.0000],\n",
       "        [250.4458, 229.3484, 297.4997, 268.8612],\n",
       "        [168.4071, 262.6339, 228.8046, 296.6647],\n",
       "        [235.1430, 213.2297, 288.7025, 251.3787],\n",
       "        [ 46.3408, 182.7181, 100.6749, 219.0042],\n",
       "        [109.7499, 248.6720, 172.1631, 284.9965],\n",
       "        [216.6345, 192.9263, 278.0132, 289.6270],\n",
       "        [210.7858, 219.4041, 251.2279, 287.7259],\n",
       "        [234.9872, 140.4527, 293.7708, 226.9118],\n",
       "        [221.3503, 137.8738, 232.9801, 168.1394],\n",
       "        [145.3979, 191.7921, 210.7457, 300.0000],\n",
       "        [228.1836, 156.3251, 268.2591, 211.2980],\n",
       "        [ 57.6495, 160.6618,  82.4489, 252.3411],\n",
       "        [ 30.8796, 143.6104,  87.3026, 227.6930],\n",
       "        [173.4951, 210.0110, 198.9612, 289.3737]])"
      ]
     },
     "execution_count": 101,
     "metadata": {},
     "output_type": "execute_result"
    }
   ],
   "source": [
    "detections[0]['boxes']"
   ]
  },
  {
   "cell_type": "code",
   "execution_count": 33,
   "metadata": {},
   "outputs": [
    {
     "data": {
      "text/plain": [
       "tensor([0.9945, 0.0366, 0.0346, 0.0336, 0.0289, 0.0270, 0.0259, 0.0254, 0.0244,\n",
       "        0.0244, 0.0236, 0.0233, 0.0223, 0.0219, 0.0212, 0.0208, 0.0207, 0.0202,\n",
       "        0.0199, 0.0196, 0.0194, 0.0183, 0.0180, 0.0178, 0.0178, 0.0173, 0.0172,\n",
       "        0.0170, 0.0168, 0.0167, 0.0166, 0.0159, 0.0159, 0.0157, 0.0154, 0.0152,\n",
       "        0.0149, 0.0146, 0.0146, 0.0144, 0.0143, 0.0142, 0.0142, 0.0140, 0.0140,\n",
       "        0.0140, 0.0139, 0.0139, 0.0138, 0.0137, 0.0137, 0.0136, 0.0136, 0.0135,\n",
       "        0.0134, 0.0133, 0.0133, 0.0132, 0.0132, 0.0131, 0.0131, 0.0131, 0.0130,\n",
       "        0.0130, 0.0130, 0.0129, 0.0129, 0.0129, 0.0127, 0.0127, 0.0127, 0.0127,\n",
       "        0.0126, 0.0126, 0.0125, 0.0125, 0.0125, 0.0123, 0.0121, 0.0121, 0.0121,\n",
       "        0.0120, 0.0120, 0.0118, 0.0118, 0.0117, 0.0117, 0.0116, 0.0116, 0.0115,\n",
       "        0.0115, 0.0115, 0.0115, 0.0115, 0.0114, 0.0114, 0.0113, 0.0113, 0.0112,\n",
       "        0.0112, 0.0112, 0.0111, 0.0111, 0.0111, 0.0110, 0.0110, 0.0109, 0.0109,\n",
       "        0.0109, 0.0109, 0.0109, 0.0109, 0.0108, 0.0108, 0.0108, 0.0107, 0.0106,\n",
       "        0.0105, 0.0105, 0.0105, 0.0105, 0.0104, 0.0102, 0.0102, 0.0101, 0.0101,\n",
       "        0.0100, 0.0100])"
      ]
     },
     "execution_count": 33,
     "metadata": {},
     "output_type": "execute_result"
    }
   ],
   "source": [
    "detections[0]['scores']"
   ]
  },
  {
   "cell_type": "code",
   "execution_count": 34,
   "metadata": {},
   "outputs": [
    {
     "data": {
      "text/plain": [
       "tensor([ 1,  1,  1,  1,  1,  1,  1, 32,  1, 32,  1,  1, 32, 32,  1,  1, 62, 32,\n",
       "        32, 32, 62,  1,  1, 62,  1, 62,  1,  1, 32,  1,  1,  1,  1,  1,  1,  1,\n",
       "        62,  1,  1,  1,  1,  1,  1, 32,  1,  1,  1,  1,  1, 62,  1,  1,  1,  1,\n",
       "         1,  1,  1, 62,  1, 62,  1, 32, 62,  1,  1,  1,  1, 62, 62, 32,  1,  1,\n",
       "         1,  1, 62,  1,  1, 62, 32, 62,  1,  1,  1,  1, 62,  1, 62, 62,  1,  1,\n",
       "         1,  1, 77, 32,  1, 62,  1, 62,  1,  1,  1,  1, 32, 62,  1,  1,  1,  1,\n",
       "         1, 62,  1,  1, 62,  1, 62, 32, 62, 62, 32, 62, 62, 62, 77, 32, 62, 62,\n",
       "        62, 32])"
      ]
     },
     "execution_count": 34,
     "metadata": {},
     "output_type": "execute_result"
    }
   ],
   "source": [
    "detections[0]['labels']"
   ]
  },
  {
   "cell_type": "code",
   "execution_count": 103,
   "metadata": {},
   "outputs": [
    {
     "data": {
      "text/plain": [
       "tensor(1)"
      ]
     },
     "execution_count": 103,
     "metadata": {},
     "output_type": "execute_result"
    }
   ],
   "source": [
    "detections[0]['labels'][0]"
   ]
  },
  {
   "cell_type": "code",
   "execution_count": 27,
   "metadata": {},
   "outputs": [],
   "source": [
    "# Filter detections based on confidence threshold\n",
    "# confidence_threshold = 0.5\n",
    "# filtered_detections = [detection for detection in detections[0] if detection[0].item() > confidence_threshold]\n",
    "\n",
    "# # Extract ROIs and display/save them\n",
    "# for detection in filtered_detections:\n",
    "#     label, score, box = detection\n",
    "x, y, x_max, y_max = detections[0]['boxes'][0].tolist()\n",
    "roi = transforms.ToPILImage()(image_test).crop((x, y, x_max, y_max))\n",
    "#roi.show()  # Display the extracted ROI\n",
    "\n",
    "\n",
    "\n",
    "\n",
    "\n"
   ]
  },
  {
   "cell_type": "code",
   "execution_count": 37,
   "metadata": {},
   "outputs": [
    {
     "data": {
      "text/plain": [
       "(34.85368347167969, 13.064727783203125)"
      ]
     },
     "execution_count": 37,
     "metadata": {},
     "output_type": "execute_result"
    }
   ],
   "source": [
    "x,y"
   ]
  },
  {
   "cell_type": "code",
   "execution_count": 38,
   "metadata": {},
   "outputs": [
    {
     "data": {
      "text/plain": [
       "(285, 259, 3)"
      ]
     },
     "execution_count": 38,
     "metadata": {},
     "output_type": "execute_result"
    }
   ],
   "source": [
    "np.array(roi).shape"
   ]
  },
  {
   "cell_type": "code",
   "execution_count": 32,
   "metadata": {},
   "outputs": [
    {
     "data": {
      "text/plain": [
       "True"
      ]
     },
     "execution_count": 32,
     "metadata": {},
     "output_type": "execute_result"
    }
   ],
   "source": [
    "np.all(np.array(roi)[:,:,0]==np.array(roi)[:,:,1])"
   ]
  },
  {
   "cell_type": "code",
   "execution_count": 114,
   "metadata": {},
   "outputs": [
    {
     "data": {
      "text/plain": [
       "PIL.Image.Image"
      ]
     },
     "execution_count": 114,
     "metadata": {},
     "output_type": "execute_result"
    }
   ],
   "source": [
    "type(roi)"
   ]
  },
  {
   "cell_type": "code",
   "execution_count": 109,
   "metadata": {},
   "outputs": [
    {
     "data": {
      "image/png": "[encoded data removed]",
      "text/plain": [
       "<PIL.Image.Image image mode=RGB size=300x300>"
      ]
     },
     "execution_count": 109,
     "metadata": {},
     "output_type": "execute_result"
    }
   ],
   "source": [
    "transforms.ToPILImage()(image_test)"
   ]
  },
  {
   "cell_type": "code",
   "execution_count": 85,
   "metadata": {},
   "outputs": [
    {
     "data": {
      "text/plain": [
       "[{'boxes': tensor([[ 34.8537,  13.0647, 294.2927, 298.2159],\n",
       "          [ 36.9165,  29.3753, 160.6267, 285.6434],\n",
       "          [211.1705, 106.0665, 274.1754, 297.3253],\n",
       "          [ 46.5083,  55.2421, 114.4245, 264.3495],\n",
       "          [  0.0000,  33.9700, 115.6209, 193.0044],\n",
       "          [ 39.4439,   0.0000, 277.6667, 152.8955],\n",
       "          [234.4690,  39.1733, 300.0000, 282.8914],\n",
       "          [129.7254, 249.2117, 211.8894, 300.0000],\n",
       "          [ 17.8140,  56.8222,  80.2129, 260.7889],\n",
       "          [133.8101, 252.1098, 170.4325, 300.0000],\n",
       "          [164.1061,  11.9823, 289.8631, 241.9946],\n",
       "          [130.0543, 117.4151, 294.6531, 297.4512],\n",
       "          [119.2709, 250.9349, 152.0921, 300.0000],\n",
       "          [166.4279, 248.4505, 203.6777, 299.5230],\n",
       "          [ 32.0058,  22.5551, 135.5397, 142.4468],\n",
       "          [215.3416, 219.2445, 276.0424, 298.7765],\n",
       "          [258.1440, 234.7361, 296.4292, 296.4520],\n",
       "          [152.8134, 244.6036, 182.4313, 300.0000],\n",
       "          [187.0421, 225.1457, 218.5990, 295.5959],\n",
       "          [102.5391, 248.9196, 133.6647, 300.0000],\n",
       "          [239.1972, 252.8109, 286.4251, 298.3198],\n",
       "          [  0.0000, 164.5011, 110.2599, 300.0000],\n",
       "          [179.2157,  52.2448, 244.5646, 236.5692],\n",
       "          [242.0359, 219.5287, 284.7871, 283.8635],\n",
       "          [243.1832, 175.3973, 295.9534, 300.0000],\n",
       "          [222.7649, 235.4054, 267.9276, 295.0547],\n",
       "          [ 75.3145,  61.0958, 144.6108, 238.9191],\n",
       "          [ 39.7487, 205.6870, 152.3963, 300.0000],\n",
       "          [206.4219, 214.6106, 229.7442, 296.0246],\n",
       "          [204.0798,  12.3924, 300.0000, 161.6718],\n",
       "          [111.3239,   0.0000, 209.1763, 144.0679],\n",
       "          [ 24.0999,  67.0378,  88.8060, 142.6746],\n",
       "          [201.2327, 144.7081, 265.0402, 225.0813],\n",
       "          [ 43.4980,  98.4718, 105.5324, 177.2633],\n",
       "          [ 20.3784, 184.5363,  77.3314, 300.0000],\n",
       "          [ 13.6849,   0.0000,  80.2576, 142.2618],\n",
       "          [243.3182, 188.7273, 284.9989, 244.1634],\n",
       "          [184.0195, 129.7042, 242.4068, 292.9264],\n",
       "          [  0.0000,  20.9684,  40.2243, 224.8159],\n",
       "          [189.4614,  76.2037, 285.4140, 208.2679],\n",
       "          [ 79.2364,   0.0000, 146.1353, 136.0918],\n",
       "          [286.9184, 119.4716, 300.0000, 297.3001],\n",
       "          [ 44.4837,  83.7381,  68.1613, 166.6472],\n",
       "          [ 93.5907, 232.6365, 246.7108, 299.6911],\n",
       "          [ 30.8796, 143.6104,  87.3026, 227.6930],\n",
       "          [ 50.3041,   0.0000, 112.4552,  95.9937],\n",
       "          [ 41.2661,  51.6329, 106.7868, 126.4015],\n",
       "          [ 45.7829, 129.9237, 104.9715, 209.8693],\n",
       "          [  9.1039,  96.7091,  73.6071, 177.6701],\n",
       "          [ 39.9335, 173.7487,  76.1550, 227.2347],\n",
       "          [177.5909, 207.0664, 295.7014, 300.0000],\n",
       "          [ 26.9222, 113.3409,  87.6654, 194.4195],\n",
       "          [ 46.7486,   2.9240, 186.7649, 112.6770],\n",
       "          [ 60.1026, 100.1153,  84.3912, 182.6360],\n",
       "          [112.2018,   0.0000, 178.3060,  89.6652],\n",
       "          [ 22.7390,  34.7484,  90.6510, 110.4451],\n",
       "          [176.8585,   0.0000, 240.5351,  93.7230],\n",
       "          [227.2284, 189.4536, 268.9368, 244.5196],\n",
       "          [217.9578, 125.1432, 279.2975, 209.8110],\n",
       "          [252.4894, 187.6277, 277.3215, 290.1560],\n",
       "          [251.8244, 202.3611, 277.9513, 298.0280],\n",
       "          [ 79.1441, 246.2571, 150.1545, 300.0000],\n",
       "          [249.9845, 164.8635, 278.7522, 234.7605],\n",
       "          [ 55.5779,  81.7373, 121.0809, 160.8013],\n",
       "          [233.4087, 203.7220, 261.3709, 298.2921],\n",
       "          [218.4634, 160.5874, 279.6374, 243.3129],\n",
       "          [ 41.0654,  58.5072,  72.1023, 120.0120],\n",
       "          [233.9449, 175.7436, 292.7133, 264.0554],\n",
       "          [ 52.4819, 156.9418,  91.2050, 210.6842],\n",
       "          [ 89.3377, 241.5365, 117.7374, 300.0000],\n",
       "          [ 24.7724,  88.6679,  55.8178, 153.5392],\n",
       "          [ 60.5443,  68.6539,  84.6683, 147.1246],\n",
       "          [215.6125,  18.7760, 224.0162,  30.2070],\n",
       "          [ 76.0451, 100.2589, 100.4469, 178.8214],\n",
       "          [265.5086, 195.0022, 293.5169, 280.2638],\n",
       "          [191.9071, 218.1101, 250.4835, 299.1436],\n",
       "          [144.1414,   0.0000, 209.3173,  87.9421],\n",
       "          [283.2378, 225.5409, 300.0000, 295.8777],\n",
       "          [198.2005, 253.4310, 239.5336, 297.8203],\n",
       "          [ 60.4395, 252.2266, 112.8927, 298.9905],\n",
       "          [ 49.0636, 145.0103, 190.2119, 287.3030],\n",
       "          [209.5799, 150.3002, 233.8139, 194.2641],\n",
       "          [268.4909, 200.6860, 292.5591, 299.8391],\n",
       "          [214.5385,  24.4059, 225.0162,  38.7491],\n",
       "          [ 45.2474, 159.0420, 104.8904, 246.1198],\n",
       "          [224.7624,  18.8547, 231.8601,  29.5692],\n",
       "          [210.4489, 252.3049, 253.7144, 297.6567],\n",
       "          [ 22.3083, 174.4603,  61.0037, 226.7266],\n",
       "          [187.0751,   0.0000, 213.1116,  35.8876],\n",
       "          [234.9872, 140.4527, 293.7708, 226.9118],\n",
       "          [203.0171,   0.0000, 228.7421,  37.0999],\n",
       "          [ 11.2916, 126.7545,  72.5883, 210.6660],\n",
       "          [205.6853, 208.4922, 231.1955, 293.4684],\n",
       "          [118.3695, 270.7674, 194.8278, 300.0000],\n",
       "          [223.6953,  26.0524, 232.0585,  38.3144],\n",
       "          [ 50.7679, 191.9455,  91.0152, 247.4223],\n",
       "          [208.5590,   0.0000, 271.8586,  98.4477],\n",
       "          [245.1531, 139.6024, 283.6657, 195.9673],\n",
       "          [206.9313,  17.9276, 216.9988,  30.4234],\n",
       "          [ 76.2390,  67.9778, 100.8110, 145.3045],\n",
       "          [181.0735, 129.9627, 248.4577, 205.6311],\n",
       "          [ 91.2933,   0.0000, 116.9688,  38.3867],\n",
       "          [191.9071, 218.1101, 250.4835, 299.1436],\n",
       "          [ 53.1787, 240.5449,  88.4852, 298.7093],\n",
       "          [203.0124,  13.2570, 235.4725,  45.3096],\n",
       "          [ 27.9202,  51.7220,  52.1032, 133.2739],\n",
       "          [ 35.7792,  96.2986,  77.0096, 145.2274],\n",
       "          [286.2097, 217.0603, 300.0000, 300.0000],\n",
       "          [117.9043, 244.0113, 148.4312, 276.3687],\n",
       "          [259.6469, 172.5612, 296.0497, 226.5699],\n",
       "          [106.8713,   0.0000, 132.9426,  37.6260],\n",
       "          [200.6412, 111.6182, 265.0957, 192.5059],\n",
       "          [ 45.0228, 185.2985,  72.2475, 259.4584],\n",
       "          [ 22.2740, 248.0952,  73.7458, 300.0000],\n",
       "          [250.4458, 229.3484, 297.4997, 268.8612],\n",
       "          [168.4071, 262.6339, 228.8046, 296.6647],\n",
       "          [235.1430, 213.2297, 288.7025, 251.3787],\n",
       "          [ 46.3408, 182.7181, 100.6749, 219.0042],\n",
       "          [109.7499, 248.6720, 172.1631, 284.9965],\n",
       "          [216.6345, 192.9263, 278.0132, 289.6270],\n",
       "          [210.7858, 219.4041, 251.2279, 287.7259],\n",
       "          [234.9872, 140.4527, 293.7708, 226.9118],\n",
       "          [221.3503, 137.8738, 232.9801, 168.1394],\n",
       "          [145.3979, 191.7921, 210.7457, 300.0000],\n",
       "          [228.1836, 156.3251, 268.2591, 211.2980],\n",
       "          [ 57.6495, 160.6618,  82.4489, 252.3411],\n",
       "          [ 30.8796, 143.6104,  87.3026, 227.6930],\n",
       "          [173.4951, 210.0110, 198.9612, 289.3737]]),\n",
       "  'scores': tensor([0.9945, 0.0366, 0.0346, 0.0336, 0.0289, 0.0270, 0.0259, 0.0254, 0.0244,\n",
       "          0.0244, 0.0236, 0.0233, 0.0223, 0.0219, 0.0212, 0.0208, 0.0207, 0.0202,\n",
       "          0.0199, 0.0196, 0.0194, 0.0183, 0.0180, 0.0178, 0.0178, 0.0173, 0.0172,\n",
       "          0.0170, 0.0168, 0.0167, 0.0166, 0.0159, 0.0159, 0.0157, 0.0154, 0.0152,\n",
       "          0.0149, 0.0146, 0.0146, 0.0144, 0.0143, 0.0142, 0.0142, 0.0140, 0.0140,\n",
       "          0.0140, 0.0139, 0.0139, 0.0138, 0.0137, 0.0137, 0.0136, 0.0136, 0.0135,\n",
       "          0.0134, 0.0133, 0.0133, 0.0132, 0.0132, 0.0131, 0.0131, 0.0131, 0.0130,\n",
       "          0.0130, 0.0130, 0.0129, 0.0129, 0.0129, 0.0127, 0.0127, 0.0127, 0.0127,\n",
       "          0.0126, 0.0126, 0.0125, 0.0125, 0.0125, 0.0123, 0.0121, 0.0121, 0.0121,\n",
       "          0.0120, 0.0120, 0.0118, 0.0118, 0.0117, 0.0117, 0.0116, 0.0116, 0.0115,\n",
       "          0.0115, 0.0115, 0.0115, 0.0115, 0.0114, 0.0114, 0.0113, 0.0113, 0.0112,\n",
       "          0.0112, 0.0112, 0.0111, 0.0111, 0.0111, 0.0110, 0.0110, 0.0109, 0.0109,\n",
       "          0.0109, 0.0109, 0.0109, 0.0109, 0.0108, 0.0108, 0.0108, 0.0107, 0.0106,\n",
       "          0.0105, 0.0105, 0.0105, 0.0105, 0.0104, 0.0102, 0.0102, 0.0101, 0.0101,\n",
       "          0.0100, 0.0100]),\n",
       "  'labels': tensor([ 1,  1,  1,  1,  1,  1,  1, 32,  1, 32,  1,  1, 32, 32,  1,  1, 62, 32,\n",
       "          32, 32, 62,  1,  1, 62,  1, 62,  1,  1, 32,  1,  1,  1,  1,  1,  1,  1,\n",
       "          62,  1,  1,  1,  1,  1,  1, 32,  1,  1,  1,  1,  1, 62,  1,  1,  1,  1,\n",
       "           1,  1,  1, 62,  1, 62,  1, 32, 62,  1,  1,  1,  1, 62, 62, 32,  1,  1,\n",
       "           1,  1, 62,  1,  1, 62, 32, 62,  1,  1,  1,  1, 62,  1, 62, 62,  1,  1,\n",
       "           1,  1, 77, 32,  1, 62,  1, 62,  1,  1,  1,  1, 32, 62,  1,  1,  1,  1,\n",
       "           1, 62,  1,  1, 62,  1, 62, 32, 62, 62, 32, 62, 62, 62, 77, 32, 62, 62,\n",
       "          62, 32])}]"
      ]
     },
     "execution_count": 85,
     "metadata": {},
     "output_type": "execute_result"
    }
   ],
   "source": [
    "pred"
   ]
  },
  {
   "cell_type": "code",
   "execution_count": 115,
   "metadata": {},
   "outputs": [
    {
     "data": {
      "text/plain": [
       "torch.Size([3, 300, 300])"
      ]
     },
     "execution_count": 115,
     "metadata": {},
     "output_type": "execute_result"
    }
   ],
   "source": [
    "torch.tensor(image_test).permute(2,0,1).shape"
   ]
  },
  {
   "cell_type": "code",
   "execution_count": 35,
   "metadata": {},
   "outputs": [],
   "source": [
    "list_labels=[\"person\" , \"bicycle\" , \"car\" , \"motorcycle\" , \"airplane\" , \"bus\" , \"train\" , \"truck\" , \"boat\" , \"traffic light\" , \"fire hydrant\" , \"street sign\" , \"stop sign\" , \"parking meter\" , \"bench\" , \"bird\" , \"cat\" , \"dog\" , \"horse\" , \"sheep\" , \"cow\" , \"elephant\" , \"bear\" , \"zebra\" , \"giraffe\" , \"hat\" , \"backpack\" , \"umbrella\" , \"shoe\" , \"eye glasses\" , \"handbag\" , \"tie\" , \"suitcase\" , \n",
    "\"frisbee\" , \"skis\" , \"snowboard\" , \"sports ball\" , \"kite\" , \"baseball bat\" , \n",
    "\"baseball glove\" , \"skateboard\" , \"surfboard\" , \"tennis racket\" , \"bottle\" , \n",
    "\"plate\" , \"wine glass\" , \"cup\" , \"fork\" , \"knife\" , \"spoon\" , \"bowl\" , \n",
    "\"banana\" , \"apple\" , \"sandwich\" , \"orange\" , \"broccoli\" , \"carrot\" , \"hot dog\" ,\n",
    "\"pizza\" , \"donut\" , \"cake\" , \"chair\" , \"couch\" , \"potted plant\" , \"bed\" ,\n",
    "\"mirror\" , \"dining table\" , \"window\" , \"desk\" , \"toilet\" , \"door\" , \"tv\" ,\n",
    "\"laptop\" , \"mouse\" , \"remote\" , \"keyboard\" , \"cell phone\" , \"microwave\" ,\n",
    "\"oven\" , \"toaster\" , \"sink\" , \"refrigerator\" , \"blender\" , \"book\" ,\n",
    "\"clock\" , \"vase\" , \"scissors\" , \"teddy bear\" , \"hair drier\" , \"toothbrush\" , \"hair brush\"]"
   ]
  },
  {
   "cell_type": "code",
   "execution_count": 36,
   "metadata": {},
   "outputs": [
    {
     "data": {
      "text/plain": [
       "'suitcase'"
      ]
     },
     "execution_count": 36,
     "metadata": {},
     "output_type": "execute_result"
    }
   ],
   "source": [
    "list_labels[32]"
   ]
  },
  {
   "cell_type": "code",
   "execution_count": null,
   "metadata": {},
   "outputs": [],
   "source": []
  }
 ],
 "metadata": {
  "kernelspec": {
   "display_name": "FER",
   "language": "python",
   "name": "python3"
  },
  "language_info": {
   "codemirror_mode": {
    "name": "ipython",
    "version": 3
   },
   "file_extension": ".py",
   "mimetype": "text/x-python",
   "name": "python",
   "nbconvert_exporter": "python",
   "pygments_lexer": "ipython3",
   "version": "3.11.4"
  },
  "orig_nbformat": 4
 },
 "nbformat": 4,
 "nbformat_minor": 2
}
